{
 "cells": [
  {
   "cell_type": "markdown",
   "id": "49653847",
   "metadata": {},
   "source": [
    "# PRÁCTICA BICIMAD GRUPO 18"
   ]
  },
  {
   "cell_type": "markdown",
   "id": "c3dd1945",
   "metadata": {},
   "source": [
    "Importamos librerías"
   ]
  },
  {
   "cell_type": "code",
   "execution_count": null,
   "id": "c26a6eac",
   "metadata": {},
   "outputs": [],
   "source": [
    "from pyspark import SparkContext\n",
    "import json"
   ]
  },
  {
   "cell_type": "markdown",
   "id": "25220d0a",
   "metadata": {},
   "source": [
    "Ejecutar para iniciar el objeto SparkContext"
   ]
  },
  {
   "cell_type": "code",
   "execution_count": 2,
   "id": "7abfa9b9",
   "metadata": {},
   "outputs": [
    {
     "name": "stderr",
     "output_type": "stream",
     "text": [
      "Using Spark's default log4j profile: org/apache/spark/log4j-defaults.properties\n",
      "Setting default log level to \"WARN\".\n",
      "To adjust logging level use sc.setLogLevel(newLevel). For SparkR, use setLogLevel(newLevel).\n",
      "22/05/14 18:15:57 WARN NativeCodeLoader: Unable to load native-hadoop library for your platform... using builtin-java classes where applicable\n"
     ]
    }
   ],
   "source": [
    "sc = SparkContext()"
   ]
  },
  {
   "cell_type": "code",
   "execution_count": null,
   "id": "4db2e6b5",
   "metadata": {},
   "outputs": [],
   "source": [
    "Archivo principal con el que vamos a trabajar"
   ]
  },
  {
   "cell_type": "code",
   "execution_count": 4,
   "id": "151827ae",
   "metadata": {
    "scrolled": true
   },
   "outputs": [
    {
     "name": "stdout",
     "output_type": "stream",
     "text": [
      "{ \"_id\" : { \"$oid\" : \"58e5e5e7865e9c221ca45898\" }, \"user_day_code\" : \"df843a74bba22d2b363e4e96f74b99391276e71dfea92e0a11de4fe552f38173\", \"idplug_base\" : 17, \"user_type\" : 1, \"idunplug_base\" : 1, \"travel_time\" : 169, \"idunplug_station\" : 41, \"ageRange\" : 4, \"idplug_station\" : 50, \"unplug_hourTime\" : { \"$date\" : \"2017-04-01T01:00:00.000+0200\" }, \"zip_code\" : \"28005\" }\r",
      "\r\n",
      "{ \"_id\" : { \"$oid\" : \"58e5e5e7865e9c221ca458a7\" }, \"user_day_code\" : \"6a7cf4393301d25f5a2eeaff8c7ba5d406f514ebd086aa15c88173dca8eeef65\", \"idplug_base\" : 2, \"user_type\" : 1, \"idunplug_base\" : 14, \"travel_time\" : 271, \"idunplug_station\" : 95, \"ageRange\" : 5, \"idplug_station\" : 90, \"unplug_hourTime\" : { \"$date\" : \"2017-04-01T01:00:00.000+0200\" }, \"zip_code\" : \"28043\" }\r",
      "\r\n"
     ]
    }
   ],
   "source": [
    "archivo = \"abril2017.json\"\n",
    "\n",
    "# cogemos las primeras 2 lineas para ver los datos\n",
    "!head -2 abril2017.json"
   ]
  },
  {
   "cell_type": "markdown",
   "id": "cda59510",
   "metadata": {},
   "source": [
    "Cargamos los datos de una línea para verlos con más claridad"
   ]
  },
  {
   "cell_type": "code",
   "execution_count": 5,
   "id": "5620873e",
   "metadata": {},
   "outputs": [
    {
     "name": "stdout",
     "output_type": "stream",
     "text": [
      "_id\n",
      "   {'$oid': '59adcf3b2f38432f98f3685b'}\n",
      "user_day_code\n",
      "   48a8905d6e28ad0f4e4e64cad0b0163e7e932a31725171174ae9b7c96bc25c49\n",
      "idplug_base\n",
      "   10\n",
      "track\n",
      "    -->\n",
      "       {'geometry': {'type': 'Point', 'coordinates': [-3.68992979972222, 40.4254705]}, 'type': 'Feature', 'properties': {'var': '28046,ES,Madrid,Madrid,PASEO CASTELLANA,Madrid', 'speed': 0, 'secondsfromstart': 764}}\n",
      "    -->\n",
      "       {'geometry': {'type': 'Point', 'coordinates': [-3.6908565, 40.4238836]}, 'type': 'Feature', 'properties': {'var': '28001,ES,Madrid,Madrid,PASEO RECOLETOS,Madrid', 'speed': 3.11, 'secondsfromstart': 705}}\n",
      "    -->\n",
      "       {'geometry': {'type': 'Point', 'coordinates': [-3.6917461, 40.421689]}, 'type': 'Feature', 'properties': {'var': '28001,ES,Madrid,Madrid,PASEO RECOLETOS,Madrid', 'speed': 3.83, 'secondsfromstart': 645}}\n",
      "    -->\n",
      "       {'geometry': {'type': 'Point', 'coordinates': [-3.6927568, 40.4191837997222]}, 'type': 'Feature', 'properties': {'var': '28014,ES,Madrid,Madrid,CALLE ALCALA,Madrid', 'speed': 4.88, 'secondsfromstart': 586}}\n",
      "    -->\n",
      "       {'geometry': {'type': 'Point', 'coordinates': [-3.6932331, 40.417211]}, 'type': 'Feature', 'properties': {'var': '28014,ES,Madrid,Madrid,PASEO PRADO,Madrid', 'speed': 4.33, 'secondsfromstart': 526}}\n",
      "    -->\n",
      "       {'geometry': {'type': 'Point', 'coordinates': [-3.69320849972222, 40.4148405997222]}, 'type': 'Feature', 'properties': {'var': '28014,ES,Madrid,Madrid,CALLE RUIZ DE ALARCON,Madrid', 'speed': 3.69, 'secondsfromstart': 466}}\n",
      "    -->\n",
      "       {'geometry': {'type': 'Point', 'coordinates': [-3.69266579972222, 40.4125204997222]}, 'type': 'Feature', 'properties': {'var': '28014,ES,Madrid,Madrid,PLAZA MURILLO 22,Madrid', 'speed': 2.75, 'secondsfromstart': 407}}\n",
      "    -->\n",
      "       {'geometry': {'type': 'Point', 'coordinates': [-3.6920951, 40.4101611]}, 'type': 'Feature', 'properties': {'var': '28014,ES,Madrid,Madrid,PASEO PRADO,Madrid', 'speed': 4.5, 'secondsfromstart': 347}}\n",
      "    -->\n",
      "       {'geometry': {'type': 'Point', 'coordinates': [-3.6916426, 40.4081588]}, 'type': 'Feature', 'properties': {'var': '28007,ES,Madrid,Madrid,AVDA CIUDAD DE BARCELONA 2D,Madrid', 'speed': 3.69, 'secondsfromstart': 288}}\n",
      "user_type\n",
      "   1\n",
      "idunplug_base\n",
      "   22\n",
      "travel_time\n",
      "   848\n",
      "idunplug_station\n",
      "   51\n",
      "ageRange\n",
      "   5\n",
      "idplug_station\n",
      "   109\n",
      "unplug_hourTime\n",
      "   {'$date': '2017-08-31T07:00:00.000+0200'}\n",
      "zip_code\n",
      "   28005\n"
     ]
    }
   ],
   "source": [
    "linea = '{ \"_id\" : { \"$oid\" : \"59adcf3b2f38432f98f3685b\" }, \"user_day_code\" : \"48a8905d6e28ad0f4e4e64cad0b0163e7e932a31725171174ae9b7c96bc25c49\", \"idplug_base\" : 10, \"track\" : { \"type\" : \"FeatureCollection\", \"features\" : [ { \"geometry\" : { \"type\" : \"Point\", \"coordinates\" : [ -3.68992979972222, 40.4254705 ] }, \"type\" : \"Feature\", \"properties\" : { \"var\" : \"28046,ES,Madrid,Madrid,PASEO CASTELLANA,Madrid\", \"speed\" : 0, \"secondsfromstart\" : 764 } }, { \"geometry\" : { \"type\" : \"Point\", \"coordinates\" : [ -3.6908565, 40.4238836 ] }, \"type\" : \"Feature\", \"properties\" : { \"var\" : \"28001,ES,Madrid,Madrid,PASEO RECOLETOS,Madrid\", \"speed\" : 3.11, \"secondsfromstart\" : 705 } }, { \"geometry\" : { \"type\" : \"Point\", \"coordinates\" : [ -3.6917461, 40.421689 ] }, \"type\" : \"Feature\", \"properties\" : { \"var\" : \"28001,ES,Madrid,Madrid,PASEO RECOLETOS,Madrid\", \"speed\" : 3.83, \"secondsfromstart\" : 645 } }, { \"geometry\" : { \"type\" : \"Point\", \"coordinates\" : [ -3.6927568, 40.4191837997222 ] }, \"type\" : \"Feature\", \"properties\" : { \"var\" : \"28014,ES,Madrid,Madrid,CALLE ALCALA,Madrid\", \"speed\" : 4.88, \"secondsfromstart\" : 586 } }, { \"geometry\" : { \"type\" : \"Point\", \"coordinates\" : [ -3.6932331, 40.417211 ] }, \"type\" : \"Feature\", \"properties\" : { \"var\" : \"28014,ES,Madrid,Madrid,PASEO PRADO,Madrid\", \"speed\" : 4.33, \"secondsfromstart\" : 526 } }, { \"geometry\" : { \"type\" : \"Point\", \"coordinates\" : [ -3.69320849972222, 40.4148405997222 ] }, \"type\" : \"Feature\", \"properties\" : { \"var\" : \"28014,ES,Madrid,Madrid,CALLE RUIZ DE ALARCON,Madrid\", \"speed\" : 3.69, \"secondsfromstart\" : 466 } }, { \"geometry\" : { \"type\" : \"Point\", \"coordinates\" : [ -3.69266579972222, 40.4125204997222 ] }, \"type\" : \"Feature\", \"properties\" : { \"var\" : \"28014,ES,Madrid,Madrid,PLAZA MURILLO 22,Madrid\", \"speed\" : 2.75, \"secondsfromstart\" : 407 } }, { \"geometry\" : { \"type\" : \"Point\", \"coordinates\" : [ -3.6920951, 40.4101611 ] }, \"type\" : \"Feature\", \"properties\" : { \"var\" : \"28014,ES,Madrid,Madrid,PASEO PRADO,Madrid\", \"speed\" : 4.5, \"secondsfromstart\" : 347 } }, { \"geometry\" : { \"type\" : \"Point\", \"coordinates\" : [ -3.6916426, 40.4081588 ] }, \"type\" : \"Feature\", \"properties\" : { \"var\" : \"28007,ES,Madrid,Madrid,AVDA CIUDAD DE BARCELONA 2D,Madrid\", \"speed\" : 3.69, \"secondsfromstart\" : 288 } } ] }, \"user_type\" : 1, \"idunplug_base\" : 22, \"travel_time\" : 848, \"idunplug_station\" : 51, \"ageRange\" : 5, \"idplug_station\" : 109, \"unplug_hourTime\" : { \"$date\" : \"2017-08-31T07:00:00.000+0200\" }, \"zip_code\" : \"28005\" }'\n",
    "data = json.loads(linea)\n",
    "for item in list(data.keys()):\n",
    "    if item==\"track\":\n",
    "        print(item)\n",
    "        for subitem in data[item]['features']:\n",
    "            print(\"    -->\")\n",
    "            print(\"      \", subitem)\n",
    "    else:\n",
    "        print(item)\n",
    "        print(f\"   {data[item]}\")\n"
   ]
  },
  {
   "cell_type": "markdown",
   "id": "2affa438",
   "metadata": {},
   "source": [
    "Cargamos todo el archivo y hacemos un map de cada linea quedandonos con los datos que queramos"
   ]
  },
  {
   "cell_type": "code",
   "execution_count": 6,
   "id": "d9ae2163",
   "metadata": {},
   "outputs": [
    {
     "name": "stderr",
     "output_type": "stream",
     "text": [
      "                                                                                \r"
     ]
    },
    {
     "data": {
      "text/plain": [
       "[{'usuario': 'df843a74bba22d2b363e4e96f74b99391276e71dfea92e0a11de4fe552f38173',\n",
       "  'user_type': 1,\n",
       "  'start': 41,\n",
       "  'end': 50,\n",
       "  'año': 2017,\n",
       "  'mes': 4,\n",
       "  'dia': 1,\n",
       "  'hora': 1,\n",
       "  'code': '28005'},\n",
       " {'usuario': '6a7cf4393301d25f5a2eeaff8c7ba5d406f514ebd086aa15c88173dca8eeef65',\n",
       "  'user_type': 1,\n",
       "  'start': 95,\n",
       "  'end': 90,\n",
       "  'año': 2017,\n",
       "  'mes': 4,\n",
       "  'dia': 1,\n",
       "  'hora': 1,\n",
       "  'code': '28043'},\n",
       " {'usuario': '877deab4cc256bb87e02abc1db75005ac2b66d65be88499a5142a6fa2e06eea1',\n",
       "  'user_type': 1,\n",
       "  'start': 15,\n",
       "  'end': 16,\n",
       "  'año': 2017,\n",
       "  'mes': 4,\n",
       "  'dia': 1,\n",
       "  'hora': 1,\n",
       "  'code': '28053'},\n",
       " {'usuario': '91bbf6c3ba396f84cce4e96e59be42b0824a16c8a1bf8944268f8492585c61e3',\n",
       "  'user_type': 1,\n",
       "  'start': 23,\n",
       "  'end': 57,\n",
       "  'año': 2017,\n",
       "  'mes': 4,\n",
       "  'dia': 1,\n",
       "  'hora': 1,\n",
       "  'code': '28012'},\n",
       " {'usuario': '4476cabb023b8b4473e5b6e78a1a79e0ebc8910c8e9989fc74136aa12c1527a1',\n",
       "  'user_type': 1,\n",
       "  'start': 23,\n",
       "  'end': 43,\n",
       "  'año': 2017,\n",
       "  'mes': 4,\n",
       "  'dia': 1,\n",
       "  'hora': 1,\n",
       "  'code': '28042'},\n",
       " {'usuario': 'b9c8654c6e2b11d3aa00b4fb242fc875940978cdc2e7b505c58c5d05fa1cdb75',\n",
       "  'user_type': 1,\n",
       "  'start': 23,\n",
       "  'end': 43,\n",
       "  'año': 2017,\n",
       "  'mes': 4,\n",
       "  'dia': 1,\n",
       "  'hora': 1,\n",
       "  'code': '28005'},\n",
       " {'usuario': '322333231f000c59662af3d46b6c5f68ddf504e32a311b7e15bf05adf437b387',\n",
       "  'user_type': 0,\n",
       "  'start': 23,\n",
       "  'end': 43,\n",
       "  'año': 2017,\n",
       "  'mes': 4,\n",
       "  'dia': 1,\n",
       "  'hora': 1,\n",
       "  'code': ''},\n",
       " {'usuario': 'e0bce599f560f9532e9c597d15dba69ace256b14799c1a05989c1d65718035c1',\n",
       "  'user_type': 1,\n",
       "  'start': 118,\n",
       "  'end': 1,\n",
       "  'año': 2017,\n",
       "  'mes': 4,\n",
       "  'dia': 1,\n",
       "  'hora': 1,\n",
       "  'code': '28523'},\n",
       " {'usuario': '7a0f59c62caebaa03349efd61d29ee6d81dd290009a241582a548101a1688765',\n",
       "  'user_type': 1,\n",
       "  'start': 52,\n",
       "  'end': 42,\n",
       "  'año': 2017,\n",
       "  'mes': 4,\n",
       "  'dia': 1,\n",
       "  'hora': 1,\n",
       "  'code': '28005'},\n",
       " {'usuario': 'b8f0e6dfd8fa670128e6346db3559f9557315ef3e5f1cdca338dbbc25fb7aa6f',\n",
       "  'user_type': 1,\n",
       "  'start': 2,\n",
       "  'end': 51,\n",
       "  'año': 2017,\n",
       "  'mes': 4,\n",
       "  'dia': 1,\n",
       "  'hora': 1,\n",
       "  'code': '28806'}]"
      ]
     },
     "execution_count": 6,
     "metadata": {},
     "output_type": "execute_result"
    }
   ],
   "source": [
    " rdd_base = sc.textFile(archivo)\n",
    "\n",
    "def mapper(line):\n",
    "    dic = {}\n",
    "    data = json.loads(line)\n",
    "    dic['usuario'] = data['user_day_code']\n",
    "    dic['user_type'] = data['user_type']\n",
    "    dic['start'] = data['idunplug_station']\n",
    "    dic['end'] = data['idplug_station']\n",
    "    time =  data['unplug_hourTime']['$date']\n",
    "    fecha , hora = time.split('T')\n",
    "    año,mes,dia= fecha.split('-')\n",
    "    hora , *s = hora.split(':')\n",
    "    dic['año'] = int(año)\n",
    "    dic['mes'] = int(mes)\n",
    "    dic['dia'] = int(dia)\n",
    "    dic['hora'] = int(hora)\n",
    "    dic['code'] = data['zip_code']\n",
    "    return dic\n",
    "\n",
    "\n",
    "rdd = rdd_base.map(mapper)\n",
    "rdd\n",
    "rdd.take(10)"
   ]
  },
  {
   "cell_type": "markdown",
   "id": "7284f494",
   "metadata": {},
   "source": [
    "Primero seleccionamos los tipos de usuarios 1 y 2 (eliminando 0 y 3)"
   ]
  },
  {
   "cell_type": "code",
   "execution_count": 50,
   "id": "1fcd450f",
   "metadata": {},
   "outputs": [],
   "source": [
    "data = rdd_base.map(mapper).filter(lambda x: x['user_type'] in [1,2])"
   ]
  },
  {
   "cell_type": "markdown",
   "id": "16a49a1c",
   "metadata": {},
   "source": [
    "Seleccionamos los usuarios en función de la franja horaria"
   ]
  },
  {
   "cell_type": "code",
   "execution_count": null,
   "id": "46d9e9b9",
   "metadata": {},
   "outputs": [],
   "source": [
    "# Seleccionamos los usuarios de mañana [6:00-14:00)\n",
    "data_mañana = data.filter(lambda x: 6 <= x['hora'] < 14)\n",
    "# Seleccionamos los usuarios de tarde [14:00-22:00)\n",
    "data_tarde = data.filter(lambda x: 14 <= x['hora'] < 22)\n",
    "# Seleccionamos los usuarios de noche [22:00-6:00)\n",
    "data_noche = data.filter(lambda x: 6 > x['hora'] or x['hora'] >= 22)\n",
    "data_tarde.take(10)"
   ]
  },
  {
   "cell_type": "markdown",
   "id": "b3835331",
   "metadata": {},
   "source": [
    "Trabajamos con los datos de mañana/tarde/noche y agrupamos los que tengan la misma idplug_station"
   ]
  },
  {
   "cell_type": "code",
   "execution_count": 51,
   "id": "0e6e2563",
   "metadata": {},
   "outputs": [
    {
     "name": "stderr",
     "output_type": "stream",
     "text": [
      "[Stage 164:===============================>                        (9 + 7) / 16]\r"
     ]
    },
    {
     "name": "stdout",
     "output_type": "stream",
     "text": [
      "la estación más popular por la mañana es (163, 1003)\n",
      "la estación más popular por la tarde es (64, 1868)\n",
      "la estación más popular por la noche es (57, 775)\n",
      "la estación menos popular por la mañana es (2008, 1)\n",
      "la estación menos popular por la tarde es (119, 193)\n",
      "la estación menos popular por la noche es (119, 26)\n"
     ]
    },
    {
     "name": "stderr",
     "output_type": "stream",
     "text": [
      "\r",
      "                                                                                \r"
     ]
    }
   ],
   "source": [
    "def group_by_variable(dato, variable):\n",
    "    dato = dato.map(lambda x: (x[variable],1)).groupByKey().mapValues(len).collect()\n",
    "    dato = sorted([(x[1],x[0]) for x in dato], reverse=True)\n",
    "    dato = [(x[1],x[0]) for x in dato]\n",
    "    return dato\n",
    "data_mañana_station = group_by_variable(data_mañana,'start' )\n",
    "data_tarde_station = group_by_variable(data_tarde, 'start')\n",
    "data_noche_station = group_by_variable(data_noche, 'start')\n",
    "\n",
    "station_mañana_mas= data_mañana_station[0]\n",
    "station_tarde_mas = data_tarde_station[0]\n",
    "station_noche_mas = data_noche_station[0]\n",
    "\n",
    "station_mañana_menos= data_mañana_station[-1]\n",
    "station_tarde_menos = data_tarde_station[-1]\n",
    "station_noche_menos = data_noche_station[-1]\n",
    "\n",
    "print(\"la estación más popular por la mañana es\", station_mañana_mas)\n",
    "print(\"la estación más popular por la tarde es\", station_tarde_mas)\n",
    "print(\"la estación más popular por la noche es\", station_noche_mas)\n",
    "print(\"la estación menos popular por la mañana es\", station_mañana_menos)\n",
    "print(\"la estación menos popular por la tarde es\", station_tarde_menos)\n",
    "print(\"la estación menos popular por la noche es\", station_noche_menos)"
   ]
  },
  {
   "cell_type": "markdown",
   "id": "a8cbd330",
   "metadata": {},
   "source": [
    "Los porcentajes de popularidad en función de la franja horaria"
   ]
  },
  {
   "cell_type": "code",
   "execution_count": 53,
   "id": "2d4e87b6",
   "metadata": {},
   "outputs": [
    {
     "name": "stderr",
     "output_type": "stream",
     "text": [
      "                                                                                \r"
     ]
    },
    {
     "data": {
      "text/plain": [
       "('mañana:',\n",
       " 28.660577920344494,\n",
       " 'tarde:',\n",
       " 52.46051577837196,\n",
       " 'noche:',\n",
       " 15.144261276361107)"
      ]
     },
     "execution_count": 53,
     "metadata": {},
     "output_type": "execute_result"
    }
   ],
   "source": [
    "'mañana:',(data_mañana.count()/data.count()) * 100, 'tarde:',(data_tarde.count()/data.count()) * 100, 'noche:',(data_noche.count()/data.count()) * 100"
   ]
  },
  {
   "cell_type": "markdown",
   "id": "6084a95b",
   "metadata": {},
   "source": [
    "Agrupando por id de usuario para ver todos los viajes que ha realizado en un día"
   ]
  },
  {
   "cell_type": "code",
   "execution_count": 54,
   "id": "04fa916a",
   "metadata": {},
   "outputs": [
    {
     "name": "stderr",
     "output_type": "stream",
     "text": [
      "                                                                                \r"
     ]
    },
    {
     "data": {
      "text/plain": [
       "('porcentaje de usuarios que utilizan la bici más de una vez al mes:',\n",
       " 26.10137893912275)"
      ]
     },
     "execution_count": 54,
     "metadata": {},
     "output_type": "execute_result"
    }
   ],
   "source": [
    "data_repetidores = data.map(lambda x: (x['usuario'],[x['start'], x['end']])).groupByKey().mapValues(tuple)\\\n",
    "    .filter(lambda x: len(x[1])>1)\n",
    "'porcentaje de usuarios que utilizan la bici más de una vez al mes:',(data_repetidores.count()/data.count()) * 100"
   ]
  },
  {
   "cell_type": "markdown",
   "id": "0c8b4885",
   "metadata": {},
   "source": [
    "Usuarios que empiezan y acaban en la misma estación (da igual lo que pasa entre medias)"
   ]
  },
  {
   "cell_type": "code",
   "execution_count": 55,
   "id": "e1ab2e7b",
   "metadata": {},
   "outputs": [
    {
     "data": {
      "text/plain": [
       "('porcentaje de usuarios con ciclo:', 41.997518610421835)"
      ]
     },
     "execution_count": 55,
     "metadata": {},
     "output_type": "execute_result"
    }
   ],
   "source": [
    "def es_ciclo(viajes):\n",
    "    return viajes[0][0] == viajes[-1][1]\n",
    " \n",
    "data_repetidores_ciclo = data_repetidores.filter(lambda x: es_ciclo(x[1]))\n",
    "'porcentaje de usuarios con ciclo:',(data_repetidores_ciclo.count() / data_repetidores.count())*100"
   ]
  },
  {
   "cell_type": "markdown",
   "id": "a4614a61",
   "metadata": {},
   "source": [
    "Cogemos aquellos que dejan la bici en una estación y vuelven a cogerla en esa misma estación en todos los trayectos que han realizado ese dia\n",
    "\n"
   ]
  },
  {
   "cell_type": "code",
   "execution_count": 56,
   "id": "28412363",
   "metadata": {},
   "outputs": [
    {
     "data": {
      "text/plain": [
       "('porcentaje de usuarios con camino:', 51.86774864194219)"
      ]
     },
     "execution_count": 56,
     "metadata": {},
     "output_type": "execute_result"
    }
   ],
   "source": [
    "def camino(viajes):\n",
    "    b = True\n",
    "    for i in range (len(viajes) - 1):\n",
    "        b = b and viajes[i][1] == viajes[i+1][0]\n",
    "    return b\n",
    "\n",
    "data_repetidores_camino = data_repetidores.filter(lambda x: camino(x[1]))\n",
    "'porcentaje de usuarios con camino:',(data_repetidores_camino.count() / data_repetidores.count())*100\n",
    "    "
   ]
  },
  {
   "cell_type": "markdown",
   "id": "3fbb79eb",
   "metadata": {},
   "source": [
    "Analisis de los usuarios que cumplen la condición de ciclo y camino a lo largo del año 2017"
   ]
  },
  {
   "cell_type": "code",
   "execution_count": 58,
   "id": "54e99adb",
   "metadata": {},
   "outputs": [
    {
     "name": "stderr",
     "output_type": "stream",
     "text": [
      "                                                                                \r"
     ]
    },
    {
     "data": {
      "text/plain": [
       "([41.84022381100404,\n",
       "  42.22927849600565,\n",
       "  41.33903602566212,\n",
       "  42.73183687257563,\n",
       "  46.421960047523,\n",
       "  42.39684909952797,\n",
       "  41.69864717106533,\n",
       "  42.88305821860208,\n",
       "  41.997518610421835],\n",
       " [47.31115946534038,\n",
       "  47.651268869232126,\n",
       "  47.43433678784888,\n",
       "  47.5846564236374,\n",
       "  49.8535628436438,\n",
       "  47.43287800282619,\n",
       "  47.45620993503849,\n",
       "  50.89382253297773,\n",
       "  51.86774864194219])"
      ]
     },
     "execution_count": 58,
     "metadata": {},
     "output_type": "execute_result"
    }
   ],
   "source": [
    "data_repetidores_ciclo = []\n",
    "data_repetidores_camino = []\n",
    "for i,mes in enumerate(['abril', 'mayo','junio', 'julio', 'agosto', 'septiembre', 'octubre', 'noviembre', 'diciembre']):\n",
    "    archivo = mes + '2017.json'\n",
    "    rdd_base = sc.textFile(archivo)\n",
    "    data = rdd_base.map(mapper).filter(lambda x: x['user_type'] in [1,2])\n",
    "    data_repetidores = data.map(lambda x: (x['usuario'],[x['start'], x['end']])).groupByKey().mapValues(tuple)\\\n",
    "    .filter(lambda x: len(x[1])>1)\n",
    "    data_ciclo = data_repetidores.filter(lambda x: es_ciclo(x[1]))\n",
    "    data_camino = data_repetidores.filter(lambda x: camino(x[1]))\n",
    "    data_repetidores_ciclo.append((data_ciclo.count() / data_repetidores.count())*100)\n",
    "    data_repetidores_camino.append((data_camino.count() / data_repetidores.count())*100)\n",
    "data_repetidores_ciclo, data_repetidores_camino"
   ]
  },
  {
   "cell_type": "markdown",
   "id": "d901d85a",
   "metadata": {},
   "source": [
    "Histograma de la evolución del porcentaje de usuarios con ciclos y caminos"
   ]
  },
  {
   "cell_type": "code",
   "execution_count": 59,
   "id": "257eb3f9",
   "metadata": {},
   "outputs": [
    {
     "name": "stderr",
     "output_type": "stream",
     "text": [
      "/var/folders/ww/ysp6rw5s18j787__llfdqzgm0000gn/T/ipykernel_1250/3957672950.py:4: UserWarning: Matplotlib is currently using module://matplotlib_inline.backend_inline, which is a non-GUI backend, so cannot show the figure.\n",
      "  fig.show()\n"
     ]
    },
    {
     "data": {
      "image/png": "[encoded data removed]",
      "text/plain": [
       "<Figure size 432x288 with 1 Axes>"
      ]
     },
     "metadata": {
      "needs_background": "light"
     },
     "output_type": "display_data"
    }
   ],
   "source": [
    "import matplotlib.pyplot as plt\n",
    "fig, ax = plt.subplots()\n",
    "ax.barh(['abril', 'mayo','junio', 'julio', 'agosto', 'septiembre', 'octubre', 'noviembre', 'diciembre'],data_repetidores_ciclo)\n",
    "fig.show()"
   ]
  },
  {
   "cell_type": "code",
   "execution_count": 60,
   "id": "087e798c",
   "metadata": {},
   "outputs": [
    {
     "name": "stderr",
     "output_type": "stream",
     "text": [
      "/var/folders/ww/ysp6rw5s18j787__llfdqzgm0000gn/T/ipykernel_1250/280678214.py:3: UserWarning: Matplotlib is currently using module://matplotlib_inline.backend_inline, which is a non-GUI backend, so cannot show the figure.\n",
      "  fig.show()\n"
     ]
    },
    {
     "data": {
      "image/png": "[encoded data removed]",
      "text/plain": [
       "<Figure size 432x288 with 1 Axes>"
      ]
     },
     "metadata": {
      "needs_background": "light"
     },
     "output_type": "display_data"
    }
   ],
   "source": [
    "fig, ax = plt.subplots()\n",
    "ax.barh(['abril', 'mayo','junio', 'julio', 'agosto', 'septiembre', 'octubre', 'noviembre', 'diciembre'],data_repetidores_camino)\n",
    "fig.show()"
   ]
  },
  {
   "cell_type": "markdown",
   "id": "069b6a39",
   "metadata": {},
   "source": [
    "Analizamos los usuarios en función de su código postal"
   ]
  },
  {
   "cell_type": "code",
   "execution_count": 61,
   "id": "ec85e775",
   "metadata": {},
   "outputs": [
    {
     "name": "stderr",
     "output_type": "stream",
     "text": [
      "                                                                                \r"
     ]
    },
    {
     "data": {
      "text/plain": [
       "('zona con más usuarios:',\n",
       " ('28005', 16572),\n",
       " 'zona con menos usuarios:',\n",
       " ('02445', 1))"
      ]
     },
     "execution_count": 61,
     "metadata": {},
     "output_type": "execute_result"
    }
   ],
   "source": [
    "data_postal = data.filter(lambda x: x['code'] not in ['','CODIGO_POSTAL_NOT_DEF',' '])\n",
    "data_postal_ord = group_by_variable(data_postal, 'code')\n",
    "'zona con más usuarios:',data_postal_ord[0], 'zona con menos usuarios:',data_postal_ord[-1]"
   ]
  },
  {
   "cell_type": "code",
   "execution_count": null,
   "id": "3c4820c1",
   "metadata": {},
   "outputs": [],
   "source": []
  }
 ],
 "metadata": {
  "kernelspec": {
   "display_name": "Python 3 (ipykernel)",
   "language": "python",
   "name": "python3"
  },
  "language_info": {
   "codemirror_mode": {
    "name": "ipython",
    "version": 3
   },
   "file_extension": ".py",
   "mimetype": "text/x-python",
   "name": "python",
   "nbconvert_exporter": "python",
   "pygments_lexer": "ipython3",
   "version": "3.10.2"
  }
 },
 "nbformat": 4,
 "nbformat_minor": 5
}
